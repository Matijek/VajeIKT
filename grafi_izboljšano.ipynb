{
 "cells": [
  {
   "cell_type": "code",
   "execution_count": null,
   "metadata": {},
   "outputs": [],
   "source": [
    "import matplotlib.pyplot as plt\n",
    "import numpy as np\n",
    "from IPython.display import FileLink\n",
    "\n",
    "# Nastavitve grafov\n",
    "plt.rcParams['font.size'] = 12\n",
    "plt.rcParams['axes.labelsize'] = 10\n",
    "plt.rcParams['axes.titlesize'] = 12\n",
    "\n",
    "# Podatki\n",
    "x = np.linspace(0, 10, 500)  # Prilagodite območje in korak x, kot želite\n",
    "f1 = np.cos(x)\n",
    "f2 = f1 ** 2\n",
    "g1 = np.cos(x) * np.exp(-0.1 * x)\n",
    "g2 = g1 ** 2\n",
    "\n",
    "# Narišemo grafe f_1(x) in f_2(x) ter g_1(x) in g_2(x) na enem grafu\n",
    "fig, axes = plt.subplots(1, 2, figsize=(15, 6.5)\n",
    "\n",
    "# Prvi panel\n",
    "axes[0].plot(x, f1, label='$f_1(x) = \\\\cos(x)$')\n",
    "axes[0].plot(x, f2, label='$f_2(x) = (f_1(x))^2$')\n",
    "axes[0].set_xlabel('x')\n",
    "axes[0].set_ylabel('y')\n",
    "axes[0].set_title('Grafa $f_1(x)$ in $f_2(x)$')\n",
    "axes[0].legend()\n",
    "\n",
    "# Drugi panel\n",
    "axes[1].plot(x, g1, label='$g_1(x) = \\\\cos(x) \\\\cdot e^{-0.1x}$')\n",
    "axes[1].plot(x, g2, label='$g_2(x) = (g_1(x))^2$')\n",
    "axes[1].set_xlabel('x')\n",
    "axes[1].set_ylabel('y')\n",
    "axes[1].set_title('Grafa $g_1(x)$ in $g_2(x)$')\n",
    "axes[1].legend()\n",
    "\n",
    "# Izvoz slike v jpg format\n",
    "plt.savefig('combined_graphs.jpg', dpi=300, bbox_inches='tight')\n",
    "\n",
    "# Prikažemo graf\n",
    "plt.show()\n",
    "\n",
    "# Generate a download link for the combined image\n",
    "FileLink('combined_graphs.jpg')\n"
   ]
  }
 ],
 "metadata": {
  "language_info": {
   "name": "python"
  }
 },
 "nbformat": 4,
 "nbformat_minor": 2
}
